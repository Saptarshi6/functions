{
  "nbformat": 4,
  "nbformat_minor": 0,
  "metadata": {
    "colab": {
      "provenance": []
    },
    "kernelspec": {
      "name": "python3",
      "display_name": "Python 3"
    },
    "language_info": {
      "name": "python"
    }
  },
  "cells": [
    {
      "cell_type": "markdown",
      "source": [
        "# FUNCTIONS\n",
        "1. what is the difference between functions and method in Python?\n",
        "  - A function is independent and can be called from anywhere, while a method is tied to a class or object and must be called on that object or within the class.\n",
        "2. second question?\n",
        "  - Second answer   "
      ],
      "metadata": {
        "id": "1faPydmkaw6P"
      }
    },
    {
      "cell_type": "code",
      "execution_count": null,
      "metadata": {
        "id": "jcDM-2WgaU4d"
      },
      "outputs": [],
      "source": []
    }
  ]
}